{
 "cells": [
  {
   "cell_type": "markdown",
   "metadata": {},
   "source": [
    "## 准备数据"
   ]
  },
  {
   "cell_type": "code",
   "execution_count": 1,
   "metadata": {},
   "outputs": [],
   "source": [
    "import os\n",
    "import numpy as np\n",
    "import tensorflow as tf\n",
    "from tensorflow import keras\n",
    "from tensorflow.keras import layers, optimizers, datasets\n",
    "\n",
    "os.environ['TF_CPP_MIN_LOG_LEVEL'] = '2'  # or any {'0', '1', '2'}\n",
    "\n",
    "def mnist_dataset():\n",
    "    (x, y), (x_test, y_test) = datasets.mnist.load_data()\n",
    "    #normalize\n",
    "    x = x/255.0\n",
    "    x_test = x_test/255.0\n",
    "    \n",
    "    return (x, y), (x_test, y_test)"
   ]
  },
  {
   "cell_type": "code",
   "execution_count": 8,
   "metadata": {},
   "outputs": [
    {
     "name": "stdout",
     "output_type": "stream",
     "text": [
      "[(1, 'a'), (2, 'b'), (3, 'c'), (4, 'd')]\n"
     ]
    }
   ],
   "source": [
    "print(list(zip([1, 2, 3, 4], ['a', 'b', 'c', 'd'])))"
   ]
  },
  {
   "cell_type": "markdown",
   "metadata": {},
   "source": [
    "## 建立模型"
   ]
  },
  {
   "cell_type": "code",
   "execution_count": 9,
   "metadata": {},
   "outputs": [],
   "source": [
    "class myModel:\n",
    "    def __init__(self):\n",
    "        ####################\n",
    "        '''声明模型对应的参数'''\n",
    "        ####################\n",
    "        self.flatten = layers.Flatten()\n",
    "        self.dense1 = layers.Dense(128, activation='relu', kernel_initializer='glorot_uniform', bias_initializer='zeros')\n",
    "        self.dense2 = layers.Dense(10, kernel_initializer='glorot_uniform', bias_initializer='zeros')\n",
    "\n",
    "    def __call__(self, x):\n",
    "        ####################\n",
    "        '''实现模型函数体，返回未归一化的logits'''\n",
    "        ####################\n",
    "        x = self.flatten(x)\n",
    "        x = self.dense1(x)\n",
    "        logits = self.dense2(x)\n",
    "        return logits\n",
    "        \n",
    "model = myModel()\n",
    "\n",
    "optimizer = optimizers.Adam()"
   ]
  },
  {
   "cell_type": "markdown",
   "metadata": {},
   "source": [
    "## 计算 loss"
   ]
  },
  {
   "cell_type": "code",
   "execution_count": 10,
   "metadata": {},
   "outputs": [],
   "source": [
    "@tf.function\n",
    "def compute_loss(logits, labels):\n",
    "    return tf.reduce_mean(\n",
    "        tf.nn.sparse_softmax_cross_entropy_with_logits(\n",
    "            logits=logits, labels=labels))\n",
    "\n",
    "@tf.function\n",
    "def compute_accuracy(logits, labels):\n",
    "    predictions = tf.argmax(logits, axis=1)\n",
    "    return tf.reduce_mean(tf.cast(tf.equal(predictions, labels), tf.float32))\n",
    "\n",
    "@tf.function\n",
    "def train_one_step(model, optimizer, x, y):\n",
    "    with tf.GradientTape() as tape:\n",
    "        logits = model(x)\n",
    "        loss = compute_loss(logits, y)\n",
    "\n",
    "    # compute gradient\n",
    "    trainable_vars = [model.dense1.kernel, model.dense2.kernel, model.dense1.bias, model.dense2.bias]\n",
    "    grads = tape.gradient(loss, trainable_vars)\n",
    "    for g, v in zip(grads, trainable_vars):\n",
    "        v.assign_sub(0.01*g)\n",
    "\n",
    "    accuracy = compute_accuracy(logits, y)\n",
    "\n",
    "    # loss and accuracy is scalar tensor\n",
    "    return loss, accuracy\n",
    "\n",
    "@tf.function\n",
    "def test(model, x, y):\n",
    "    logits = model(x)\n",
    "    loss = compute_loss(logits, y)\n",
    "    accuracy = compute_accuracy(logits, y)\n",
    "    return loss, accuracy"
   ]
  },
  {
   "cell_type": "markdown",
   "metadata": {},
   "source": [
    "## 实际训练"
   ]
  },
  {
   "cell_type": "code",
   "execution_count": 11,
   "metadata": {},
   "outputs": [
    {
     "name": "stdout",
     "output_type": "stream",
     "text": [
      "epoch 0 : loss 2.4826145 ; accuracy 0.087233335\n",
      "epoch 1 : loss 2.4655108 ; accuracy 0.09066667\n",
      "epoch 2 : loss 2.4491735 ; accuracy 0.09395\n",
      "epoch 3 : loss 2.4335172 ; accuracy 0.09736667\n",
      "epoch 4 : loss 2.418483 ; accuracy 0.100933336\n",
      "epoch 5 : loss 2.4040098 ; accuracy 0.10455\n",
      "epoch 6 : loss 2.3900447 ; accuracy 0.1081\n",
      "epoch 7 : loss 2.3765428 ; accuracy 0.112166665\n",
      "epoch 8 : loss 2.3634572 ; accuracy 0.1159\n",
      "epoch 9 : loss 2.3507593 ; accuracy 0.119883336\n",
      "epoch 10 : loss 2.3384156 ; accuracy 0.12443333\n",
      "epoch 11 : loss 2.3263955 ; accuracy 0.12866667\n",
      "epoch 12 : loss 2.314673 ; accuracy 0.13298333\n",
      "epoch 13 : loss 2.3032255 ; accuracy 0.13763334\n",
      "epoch 14 : loss 2.2920299 ; accuracy 0.14238334\n",
      "epoch 15 : loss 2.281072 ; accuracy 0.1469\n",
      "epoch 16 : loss 2.2703352 ; accuracy 0.15191667\n",
      "epoch 17 : loss 2.2598011 ; accuracy 0.15695\n",
      "epoch 18 : loss 2.2494562 ; accuracy 0.16211666\n",
      "epoch 19 : loss 2.239286 ; accuracy 0.16826667\n",
      "epoch 20 : loss 2.2292802 ; accuracy 0.17433333\n",
      "epoch 21 : loss 2.2194302 ; accuracy 0.1804\n",
      "epoch 22 : loss 2.2097256 ; accuracy 0.18803333\n",
      "epoch 23 : loss 2.2001562 ; accuracy 0.19486667\n",
      "epoch 24 : loss 2.1907156 ; accuracy 0.20275\n",
      "epoch 25 : loss 2.1813972 ; accuracy 0.21\n",
      "epoch 26 : loss 2.1721933 ; accuracy 0.2174\n",
      "epoch 27 : loss 2.1630964 ; accuracy 0.226\n",
      "epoch 28 : loss 2.1541 ; accuracy 0.23471667\n",
      "epoch 29 : loss 2.1452003 ; accuracy 0.24408333\n",
      "epoch 30 : loss 2.1363907 ; accuracy 0.25301668\n",
      "epoch 31 : loss 2.1276703 ; accuracy 0.26285\n",
      "epoch 32 : loss 2.1190326 ; accuracy 0.27206665\n",
      "epoch 33 : loss 2.1104755 ; accuracy 0.28193334\n",
      "epoch 34 : loss 2.1019943 ; accuracy 0.2912\n",
      "epoch 35 : loss 2.0935855 ; accuracy 0.30055\n",
      "epoch 36 : loss 2.0852442 ; accuracy 0.30935\n",
      "epoch 37 : loss 2.0769682 ; accuracy 0.3186\n",
      "epoch 38 : loss 2.068755 ; accuracy 0.328\n",
      "epoch 39 : loss 2.060603 ; accuracy 0.33698332\n",
      "epoch 40 : loss 2.052509 ; accuracy 0.3461\n",
      "epoch 41 : loss 2.044471 ; accuracy 0.35478333\n",
      "epoch 42 : loss 2.0364866 ; accuracy 0.3627\n",
      "epoch 43 : loss 2.028553 ; accuracy 0.3709\n",
      "epoch 44 : loss 2.0206666 ; accuracy 0.37911665\n",
      "epoch 45 : loss 2.0128276 ; accuracy 0.38628334\n",
      "epoch 46 : loss 2.0050359 ; accuracy 0.39355\n",
      "epoch 47 : loss 1.9972893 ; accuracy 0.40008333\n",
      "epoch 48 : loss 1.9895866 ; accuracy 0.40773332\n",
      "epoch 49 : loss 1.9819256 ; accuracy 0.41538334\n",
      "test loss 1.9744925 ; accuracy 0.421\n"
     ]
    }
   ],
   "source": [
    "train_data, test_data = mnist_dataset()\n",
    "for epoch in range(50):\n",
    "    loss, accuracy = train_one_step(model, optimizer, \n",
    "                                    tf.constant(train_data[0], dtype=tf.float32), \n",
    "                                    tf.constant(train_data[1], dtype=tf.int64))\n",
    "    print('epoch', epoch, ': loss', loss.numpy(), '; accuracy', accuracy.numpy())\n",
    "loss, accuracy = test(model, \n",
    "                      tf.constant(test_data[0], dtype=tf.float32), \n",
    "                      tf.constant(test_data[1], dtype=tf.int64))\n",
    "\n",
    "print('test loss', loss.numpy(), '; accuracy', accuracy.numpy())"
   ]
  }
 ],
 "metadata": {
  "kernelspec": {
   "display_name": "Python 3",
   "language": "python",
   "name": "python3"
  },
  "language_info": {
   "codemirror_mode": {
    "name": "ipython",
    "version": 3
   },
   "file_extension": ".py",
   "mimetype": "text/x-python",
   "name": "python",
   "nbconvert_exporter": "python",
   "pygments_lexer": "ipython3",
   "version": "3.9.13"
  }
 },
 "nbformat": 4,
 "nbformat_minor": 2
}
